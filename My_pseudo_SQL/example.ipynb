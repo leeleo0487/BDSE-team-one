{
 "cells": [
  {
   "cell_type": "code",
   "execution_count": null,
   "metadata": {},
   "outputs": [],
   "source": [
    "from MypseudoSQL import Table\n",
    "\n",
    "\"\"\"\n",
    "create table users\n",
    "\"\"\"\n",
    "users = Table([\"id\", \"name\", \"friends\"])\n",
    "users"
   ]
  },
  {
   "cell_type": "code",
   "execution_count": null,
   "metadata": {},
   "outputs": [],
   "source": [
    "\"\"\"INSERT INTO\n",
    "\n",
    "insert into users (user_id, name, num_friends) values (0, \"Hero\", 0);\n",
    "\"\"\"\n",
    "users.insert([0, \"Hero\", 0])\n",
    "users.insert([1, \"Dunn\", 2])\n",
    "users.insert([2, \"Sue\", 3])\n",
    "users.insert([3, \"Chi\", 3])\n",
    "users.insert([4, \"Thor\", 3])\n",
    "users.insert([5, \"Clive\", 2])\n",
    "users.insert([6, \"Hicks\", 3])\n",
    "users.insert([7, \"Devin\", 2])\n",
    "users.insert([8, \"Kate\", 2])\n",
    "users.insert([9, \"Klein\", 3])\n",
    "users.insert([10, \"Jen\", 1])\n",
    "users"
   ]
  },
  {
   "cell_type": "code",
   "execution_count": null,
   "metadata": {},
   "outputs": [],
   "source": [
    "\"\"\"UPDATE\n",
    "\n",
    "update users\n",
    "set num_friends = 10\n",
    "where name = Chi;\n",
    "\"\"\"\n",
    "users.update({\"friends\": 10}, lambda row: row[\"name\"] == \"Chi\")\n",
    "users"
   ]
  },
  {
   "cell_type": "code",
   "execution_count": null,
   "metadata": {},
   "outputs": [],
   "source": [
    "\"\"\"SELECT\n",
    "\n",
    "select name, friends from users;\n",
    "\"\"\"\n",
    "s1 = users.select(keep_columns=[\"name\", \"friends\"])\n",
    "s1"
   ]
  },
  {
   "cell_type": "code",
   "execution_count": null,
   "metadata": {},
   "outputs": [],
   "source": [
    "\"\"\"SELECT\n",
    "\n",
    "select name, length(name) as name_length \n",
    "from users;\n",
    "\"\"\"\n",
    "s2 = users.select(keep_columns=[\"name\"], \n",
    "                 additional_columns={\"name_length\": lambda row: len(row[\"name\"])})\n",
    "s2"
   ]
  },
  {
   "cell_type": "code",
   "execution_count": null,
   "metadata": {},
   "outputs": [],
   "source": [
    "\"\"\"LIMIT\n",
    "\n",
    "select * from users limit 5;\n",
    "\"\"\"\n",
    "lim = users.limit(5)\n",
    "lim"
   ]
  },
  {
   "cell_type": "code",
   "execution_count": null,
   "metadata": {},
   "outputs": [],
   "source": [
    "\"\"\"WHERE\n",
    "\n",
    "select * from users \n",
    "where friends > 2;\n",
    "\"\"\"\n",
    "w1 = users.where(lambda row: row[\"friends\"] > 2)\n",
    "w1"
   ]
  },
  {
   "cell_type": "code",
   "execution_count": null,
   "metadata": {},
   "outputs": [],
   "source": [
    "\"\"\"ORDER BY\n",
    "\n",
    "select * from users\n",
    "order by friends;\n",
    "\"\"\"\n",
    "o1 = users.order_by(lambda row: -row[\"friends\"])\n",
    "o1"
   ]
  },
  {
   "cell_type": "code",
   "execution_count": null,
   "metadata": {},
   "outputs": [],
   "source": [
    "# create another table interests\n",
    "interests = Table([\"id\", \"interest\"])\n",
    "interests.insert([0, \"SQL\"])\n",
    "interests.insert([0, \"NoSQL\"])\n",
    "interests.insert([2, \"SQL\"])\n",
    "interests.insert([2, \"MySQL\"])\n",
    "interests.insert([3, \"Java\"])\n",
    "interests.insert([3, \"Python\"])\n",
    "interests.insert([4, \"Flask\"])\n",
    "interests.insert([4, \"JavaScripts\"])\n",
    "interests.insert([6, \"Shell\"])\n",
    "interests.insert([6, \"Python\"])\n",
    "interests.insert([8, \"Java\"])\n",
    "interests.insert([8, \"Spring\"])\n",
    "interests.insert([9, \"NoSQL\"])\n",
    "interests.insert([10, \"Python\"])"
   ]
  },
  {
   "cell_type": "code",
   "execution_count": null,
   "metadata": {},
   "outputs": [],
   "source": [
    "\"\"\"JOIN\n",
    "\n",
    "select * from users\n",
    "join interests\n",
    "on users.user_id =interests.user_id\n",
    "\"\"\"\n",
    "j1 = users.join(interests)\n",
    "j1"
   ]
  },
  {
   "cell_type": "code",
   "execution_count": null,
   "metadata": {},
   "outputs": [],
   "source": [
    "\"\"\"Subqueries\n",
    "\n",
    "select users.friends, interests.interest\n",
    "from users\n",
    "join interests on id\n",
    "where interests.interest = Python;\n",
    "\"\"\"\n",
    "\n",
    "sub = users.join(interests).select([\"friends\", \"interest\"]).where(lambda row: row[\"interest\"] == \"Python\")\n",
    "sub"
   ]
  },
  {
   "cell_type": "code",
   "execution_count": null,
   "metadata": {},
   "outputs": [],
   "source": [
    "\"\"\"export to csv\"\"\"\n",
    "sub.to_csv(\"pseudoBD.csv\")"
   ]
  }
 ],
 "metadata": {
  "kernelspec": {
   "display_name": "Python 2",
   "language": "python",
   "name": "python2"
  },
  "language_info": {
   "codemirror_mode": {
    "name": "ipython",
    "version": 2
   },
   "file_extension": ".py",
   "mimetype": "text/x-python",
   "name": "python",
   "nbconvert_exporter": "python",
   "pygments_lexer": "ipython2",
   "version": "2.7.15"
  }
 },
 "nbformat": 4,
 "nbformat_minor": 2
}
