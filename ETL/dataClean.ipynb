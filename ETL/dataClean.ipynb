{
 "cells": [
  {
   "cell_type": "code",
   "execution_count": 1,
   "metadata": {},
   "outputs": [
    {
     "name": "stdout",
     "output_type": "stream",
     "text": [
      "read data cost time: 27.22359824180603\n"
     ]
    }
   ],
   "source": [
    "import pandas as pd\n",
    "import numpy as np\n",
    "import time \n",
    "\n",
    "s = time.time()\n",
    "dfName = ['user_info_format1','train_format1','user_log_format1']\n",
    "# dfName = ['user_info_format1','train_format1','user_log_format1']\n",
    "df1 = pd.read_csv('../data_format1/%s.csv'%dfName[0],sep=',')\n",
    "df2 = pd.read_csv('../data_format1/%s.csv'%dfName[1],sep=',')\n",
    "df3 = pd.read_csv('../data_format1/%s.csv'%dfName[2],sep=',')\n",
    "\n",
    "s0 = time.time()\n",
    "print('read data cost time:',s0-s)"
   ]
  },
  {
   "cell_type": "code",
   "execution_count": 2,
   "metadata": {},
   "outputs": [],
   "source": [
    "#  df: dataframe\n",
    "#  tag: column be search\n",
    "#  L: list of condiction. if not in L then replace to be R\n",
    "#  r: the number be replace\n",
    "#  R: to replace the number which not fit condiction\n",
    "\n",
    "def fillNull(df, tag, R):\n",
    "    df[tag] = df[tag].fillna(R)\n",
    "\n",
    "\n",
    "def replaceNum(df, tag, r, R):\n",
    "    df[tag] = df[tag].replace(r, R)\n",
    "\n",
    "\n",
    "def checkCondition(df, tag, L, R):\n",
    "    df[tag] = np.where(~df[tag].isin(L), R, df[tag])\n",
    "\n",
    "\n",
    "def dropNull(df, tag_list):\n",
    "    return df.dropna(subset=tag_list)\n",
    "\n",
    "\n",
    "def dropDup(df, tag):\n",
    "    return df.drop_duplicates(tag)\n"
   ]
  },
  {
   "cell_type": "markdown",
   "metadata": {},
   "source": [
    "# Main"
   ]
  },
  {
   "cell_type": "code",
   "execution_count": 3,
   "metadata": {},
   "outputs": [
    {
     "name": "stdout",
     "output_type": "stream",
     "text": [
      "clean user_info_format1 table cost time: 0.22688603401184082\n",
      "save user_info_format1 table to csv as \"user_info_format1-2.csv\" cost time: 1.2095701694488525\n"
     ]
    }
   ],
   "source": [
    "# 'user_info_format1'\n",
    "\n",
    "df1=dropNull(df1, ['user_id'])    # drop should be first, that can cut calculate short \n",
    "df1=dropDup(df1, ['user_id'])\n",
    "fillNull(df1,'gender',2)\n",
    "fillNull(df1,'age_range',0)\n",
    "replaceNum(df1,\"age_range\",8,7)\n",
    "checkCondition(df1,'gender',[0,1,2],2)\n",
    "\n",
    "s1=time.time()\n",
    "print('clean %s table cost time:'%dfName[0],s1-s0)\n",
    "\n",
    "\n",
    "# export data\n",
    "df1.to_csv(r'%s-2.csv'%dfName[0],sep=',',index=False,mode='a')\n",
    "s2=time.time()\n",
    "print('save %s table to csv as \"%s-2.csv\" cost time:'%(dfName[0],dfName[0]),s2-s1)"
   ]
  },
  {
   "cell_type": "code",
   "execution_count": 4,
   "metadata": {},
   "outputs": [
    {
     "name": "stdout",
     "output_type": "stream",
     "text": [
      "clean train_format1 table cost time: 0.13128447532653809\n",
      "save train_format1 table to csv as \"train_format1-2.csv\" cost time: 0.8224389553070068\n"
     ]
    }
   ],
   "source": [
    "# 'train_format1'\n",
    "\n",
    "df2=dropNull(df2, ['user_id','merchant_id','label'])\n",
    "df2=dropDup(df2, ['user_id','merchant_id','label'])\n",
    "checkCondition(df2, 'label', [0,1], np.nan)    # if label's content is not 1 or 0 , than put it NaN\n",
    "df2=dropNull(df2, ['label'])    # drop row that we put NaN\n",
    "\n",
    "s3=time.time()\n",
    "print('clean %s table cost time:'%dfName[1],s3-s2)\n",
    "\n",
    "\n",
    "# export data\n",
    "df2.to_csv(r'%s-2.csv'%dfName[1],sep=',',index=False,mode='a')\n",
    "s4=time.time()\n",
    "print('save %s table to csv as \"%s-2.csv\" cost time:'%(dfName[1],dfName[1]),s4-s3)\n"
   ]
  },
  {
   "cell_type": "code",
   "execution_count": 5,
   "metadata": {},
   "outputs": [
    {
     "name": "stdout",
     "output_type": "stream",
     "text": [
      "clean user_log_format1 table cost time: 33.096155881881714\n",
      "save user_log_format1 table to csv as \"user_log_format1-2.csv\" cost time: 344.95931124687195\n"
     ]
    }
   ],
   "source": [
    "# 'user_log_format1'\n",
    "\n",
    "df3=dropNull(df3, ['user_id','item_id'])\n",
    "d32=dropDup(df3, ['user_id','item_id','cat_id','seller_id','brand_id','time_stamp','action_type'])\n",
    "replaceNum(df3,\"cat_id\",np.nan,-1)\n",
    "replaceNum(df3,\"seller_id\",np.nan,-1)\n",
    "replaceNum(df3,\"brand_id\",np.nan,-1)\n",
    "replaceNum(df3,\"time_stamp\",np.nan,-1)\n",
    "replaceNum(df3,\"action_type\",np.nan,-1)\n",
    "\n",
    "s5=time.time()\n",
    "print('clean %s table cost time:'%dfName[2],s5-s4)\n",
    "\n",
    "\n",
    "# export data\n",
    "df3.to_csv(r'%s-2.csv'%dfName[2],sep=',',index=False,mode='a')\n",
    "s6=time.time()\n",
    "print('save %s table to csv as \"%s-2.csv\" cost time:'%(dfName[2],dfName[2]),s6-s5)"
   ]
  },
  {
   "cell_type": "code",
   "execution_count": 6,
   "metadata": {},
   "outputs": [
    {
     "name": "stdout",
     "output_type": "stream",
     "text": [
      "total cost time: 407.6848957538605\n"
     ]
    }
   ],
   "source": [
    "print('total cost time:',time.time()-s)"
   ]
  },
  {
   "cell_type": "markdown",
   "metadata": {},
   "source": [
    "# test"
   ]
  },
  {
   "cell_type": "code",
   "execution_count": 7,
   "metadata": {},
   "outputs": [
    {
     "name": "stdout",
     "output_type": "stream",
     "text": [
      "        user_id  age_range  gender\n",
      "424155   280570        0.0     1.0\n",
      "424156    64169        0.0     1.0\n",
      "424157   388969        0.0     2.0\n",
      "424158   312626        2.0     0.0\n",
      "424159   145760        0.0     1.0\n",
      "424160    97195        0.0     2.0\n",
      "424161    54826        3.0     1.0\n",
      "424162   156155        0.0     1.0\n",
      "424163   306498        4.0     1.0\n",
      "424164   297789        0.0     1.0\n",
      "424165   395814        3.0     1.0\n",
      "424166   245950        0.0     1.0\n",
      "424167   208016        0.0     2.0\n",
      "424168   272535        6.0     1.0\n",
      "424169    18031        3.0     1.0 \n",
      "\n"
     ]
    },
    {
     "name": "stderr",
     "output_type": "stream",
     "text": [
      "c:\\users\\student\\appdata\\local\\programs\\python\\python36\\lib\\site-packages\\pandas\\core\\indexing.py:543: SettingWithCopyWarning: \n",
      "A value is trying to be set on a copy of a slice from a DataFrame.\n",
      "Try using .loc[row_indexer,col_indexer] = value instead\n",
      "\n",
      "See the caveats in the documentation: http://pandas.pydata.org/pandas-docs/stable/indexing.html#indexing-view-versus-copy\n",
      "  self.obj[item] = s\n",
      "c:\\users\\student\\appdata\\local\\programs\\python\\python36\\lib\\site-packages\\pandas\\core\\indexing.py:189: SettingWithCopyWarning: \n",
      "A value is trying to be set on a copy of a slice from a DataFrame\n",
      "\n",
      "See the caveats in the documentation: http://pandas.pydata.org/pandas-docs/stable/indexing.html#indexing-view-versus-copy\n",
      "  self._setitem_with_indexer(indexer, value)\n",
      "c:\\users\\student\\appdata\\local\\programs\\python\\python36\\lib\\site-packages\\ipykernel_launcher.py:8: SettingWithCopyWarning: \n",
      "A value is trying to be set on a copy of a slice from a DataFrame\n",
      "\n",
      "See the caveats in the documentation: http://pandas.pydata.org/pandas-docs/stable/indexing.html#indexing-view-versus-copy\n",
      "  \n",
      "c:\\users\\student\\appdata\\local\\programs\\python\\python36\\lib\\site-packages\\ipykernel_launcher.py:9: SettingWithCopyWarning: \n",
      "A value is trying to be set on a copy of a slice from a DataFrame\n",
      "\n",
      "See the caveats in the documentation: http://pandas.pydata.org/pandas-docs/stable/indexing.html#indexing-view-versus-copy\n",
      "  if __name__ == '__main__':\n",
      "c:\\users\\student\\appdata\\local\\programs\\python\\python36\\lib\\site-packages\\ipykernel_launcher.py:10: SettingWithCopyWarning: \n",
      "A value is trying to be set on a copy of a slice from a DataFrame\n",
      "\n",
      "See the caveats in the documentation: http://pandas.pydata.org/pandas-docs/stable/indexing.html#indexing-view-versus-copy\n",
      "  # Remove the CWD from sys.path while we load stuff.\n",
      "c:\\users\\student\\appdata\\local\\programs\\python\\python36\\lib\\site-packages\\ipykernel_launcher.py:8: SettingWithCopyWarning: \n",
      "A value is trying to be set on a copy of a slice from a DataFrame.\n",
      "Try using .loc[row_indexer,col_indexer] = value instead\n",
      "\n",
      "See the caveats in the documentation: http://pandas.pydata.org/pandas-docs/stable/indexing.html#indexing-view-versus-copy\n",
      "  \n",
      "c:\\users\\student\\appdata\\local\\programs\\python\\python36\\lib\\site-packages\\ipykernel_launcher.py:12: SettingWithCopyWarning: \n",
      "A value is trying to be set on a copy of a slice from a DataFrame.\n",
      "Try using .loc[row_indexer,col_indexer] = value instead\n",
      "\n",
      "See the caveats in the documentation: http://pandas.pydata.org/pandas-docs/stable/indexing.html#indexing-view-versus-copy\n",
      "  if sys.path[0] == '':\n"
     ]
    },
    {
     "name": "stdout",
     "output_type": "stream",
     "text": [
      "         user_id  age_range  gender\n",
      "424155  280570.0        0.0     1.0\n",
      "424156   64169.0        0.0     1.0\n",
      "424157  388969.0        0.0     2.0\n",
      "424158  312626.0        2.0     0.0\n",
      "424159  145760.0        0.0     1.0\n",
      "424160   97195.0        0.0     2.0\n",
      "424161   54826.0        3.0     1.0\n",
      "424162  156155.0        0.0     1.0\n",
      "424163  306498.0        4.0     1.0\n",
      "424164  297789.0        0.0     1.0\n",
      "424165  395814.0        3.0     1.0\n",
      "424166  245950.0        0.0     1.0\n",
      "424167  208016.0        0.0     2.0\n",
      "424168  208016.0        6.0     1.0\n",
      "424169       NaN        8.0     8.0 \n",
      "\n",
      "         user_id  age_range  gender\n",
      "424155  280570.0        0.0     1.0\n",
      "424156   64169.0        0.0     1.0\n",
      "424157  388969.0        0.0     2.0\n",
      "424158  312626.0        2.0     0.0\n",
      "424159  145760.0        0.0     1.0\n",
      "424160   97195.0        0.0     2.0\n",
      "424161   54826.0        3.0     1.0\n",
      "424162  156155.0        0.0     1.0\n",
      "424163  306498.0        4.0     1.0\n",
      "424164  297789.0        0.0     1.0\n",
      "424165  395814.0        3.0     1.0\n",
      "424166  245950.0        0.0     1.0\n",
      "424167  208016.0        0.0     2.0\n"
     ]
    },
    {
     "name": "stderr",
     "output_type": "stream",
     "text": [
      "c:\\users\\student\\appdata\\local\\programs\\python\\python36\\lib\\site-packages\\ipykernel_launcher.py:16: SettingWithCopyWarning: \n",
      "A value is trying to be set on a copy of a slice from a DataFrame.\n",
      "Try using .loc[row_indexer,col_indexer] = value instead\n",
      "\n",
      "See the caveats in the documentation: http://pandas.pydata.org/pandas-docs/stable/indexing.html#indexing-view-versus-copy\n",
      "  app.launch_new_instance()\n"
     ]
    }
   ],
   "source": [
    "# creat test dataframe\n",
    "df_test = df1.tail(15)\n",
    "print(df_test,'\\n')\n",
    "\n",
    "\n",
    "# insert a fake age to test\n",
    "df_test.iloc[-2,0] = 208016.0 \n",
    "df_test.iloc[-1,1] = 8\n",
    "df_test.iloc[-1,2] = 8\n",
    "df_test.iloc[-1,0] = np.nan\n",
    "\n",
    "\n",
    "# test data output\n",
    "print(df_test,'\\n')\n",
    "\n",
    "fillNull(df_test,'gender',2)\n",
    "fillNull(df_test,'age_range',0)\n",
    "# print(df_test,'\\n')\n",
    "\n",
    "replaceNum(df_test,\"age_range\",8,7)\n",
    "# print(df_test,'\\n')\n",
    "\n",
    "checkCondition(df_test,'gender',[0,1,2],2)\n",
    "# print(df_test,'\\n')\n",
    "\n",
    "df_test=dropNull(df_test, ['user_id'])\n",
    "# print(df_test)\n",
    "\n",
    "df_test = dropDup(df_test,['user_id'])\n",
    "print(df_test)\n"
   ]
  }
 ],
 "metadata": {
  "kernelspec": {
   "display_name": "Python 3",
   "language": "python",
   "name": "python3"
  },
  "language_info": {
   "codemirror_mode": {
    "name": "ipython",
    "version": 3
   },
   "file_extension": ".py",
   "mimetype": "text/x-python",
   "name": "python",
   "nbconvert_exporter": "python",
   "pygments_lexer": "ipython3",
   "version": "3.6.5"
  }
 },
 "nbformat": 4,
 "nbformat_minor": 2
}
