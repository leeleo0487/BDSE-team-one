{
 "cells": [
  {
   "cell_type": "code",
   "execution_count": 1,
   "metadata": {},
   "outputs": [],
   "source": [
    "from __future__ import print_function, division\n",
    "from collections import Counter\n",
    "import os\n",
    "import time\n",
    "import json\n",
    "import sqlite3\n",
    "import numpy as np\n",
    "import pandas as pd\n",
    "import matplotlib.pyplot as plt\n",
    "from jupyterthemes import jtplot\n",
    "jtplot.style(theme=\"chesterish\")\n",
    "\n",
    "src = \"data\""
   ]
  },
  {
   "cell_type": "code",
   "execution_count": 80,
   "metadata": {},
   "outputs": [
    {
     "name": "stdout",
     "output_type": "stream",
     "text": [
      "\n",
      "load data\n",
      "runtime: 0.3900\n"
     ]
    }
   ],
   "source": [
    "# slice :100000 data for pilot study\n",
    "# df = pd.read_csv('data/format1/user_log_format1.csv')\n",
    "# df.iloc[:540000,:].to_csv('pilot0.1.csv', index=0)\n",
    "\n",
    "# read pilot data\n",
    "t0 = time.clock()\n",
    "info = pd.read_csv('data/format1/user_info_format1.csv')\n",
    "df_pilot = pd.read_csv('pilot.csv')\n",
    "print(\"\\nload data\\nruntime: %.4f\" % (time.clock() - t0))"
   ]
  },
  {
   "cell_type": "code",
   "execution_count": 3,
   "metadata": {},
   "outputs": [],
   "source": [
    "def get_purchase(df):\n",
    "    '''\n",
    "    :param : df, the raw dataframe\n",
    "    :return: a dataframe, where the action type is 2\n",
    "    >> select * from table where action_type=2\n",
    "    '''\n",
    "    return df[df.action_type == 2]\n",
    "\n",
    "\n",
    "def get_distinct(df, by=['user_id', 'item_id']):\n",
    "    '''\n",
    "    :param : df, DataFrame\n",
    "    :param : by, list, default = ['user_id', 'item_id']\n",
    "    :return: a distinct Dataframe\n",
    "    >> select distinct user_id, item_id from table\n",
    "    '''\n",
    "    return df.drop_duplicates(by)\n",
    "\n",
    "\n",
    "def get_dataset(df, filtered):\n",
    "    '''\n",
    "    :param : df, the raw DataFrame\n",
    "    :param : filtered, the distinct DataFrame\n",
    "    :return: a Dataframe of list, \n",
    "             each DataFrame was corresponding to a record of the distinct DataFrame\n",
    "    >> select * from table where user_id=???, item_id=???\n",
    "    '''\n",
    "    return map(lambda item: \n",
    "               df[(df.user_id == item[1][0]) & (df.item_id == item[1][1])],\n",
    "               filtered.iterrows())\n",
    "\n",
    "\n",
    "def get_action_count(df):\n",
    "    '''\n",
    "    :param : df, the distinct DataFrame\n",
    "    :return: a count list of action_type, len=4, \n",
    "             where the index of list were corresponding to the action_type\n",
    "    '''\n",
    "    return map(lambda count: count[1], Counter(df.action_type).most_common())\n",
    "\n",
    "\n",
    "def get_index(dataset):\n",
    "    '''\n",
    "    :param : dataset, a Dataframe of list, see also get_dataset()\n",
    "    :return: pandas.Index\n",
    "    '''\n",
    "    for i, data in enumerate(dataset):\n",
    "        index = data.index if i == 0 else index.append(data.index)\n",
    "    return index"
   ]
  },
  {
   "cell_type": "code",
   "execution_count": 81,
   "metadata": {},
   "outputs": [
    {
     "name": "stdout",
     "output_type": "stream",
     "text": [
      "\n",
      "get_purchase\n",
      "runtime: 0.00452009987202\n",
      "\n",
      "get_purchase_distinct\n",
      "runtime: 0.00747541138662\n",
      "\n",
      "get_purchase_dataset\n",
      "runtime: 22.6481534315\n",
      "\n",
      "get_index\n",
      "runtime: 1.21737449693\n",
      "\n",
      "get_unpurchase\n",
      "runtime: 0.0285363111598\n",
      "\n",
      "get_unpurchase_distinct\n",
      "runtime: 0.027373515084\n",
      "\n",
      "get_unpurchase_dataset\n",
      "runtime: 192.649772196\n"
     ]
    }
   ],
   "source": [
    "t0 = time.clock()\n",
    "purchase_df = get_purchase(df_pilot)\n",
    "print(\"\\nget_purchase\\nruntime:\", time.clock() - t0)\n",
    "\n",
    "t0 = time.clock()\n",
    "purchase_distinct = get_distinct(purchase_df)\n",
    "print(\"\\nget_purchase_distinct\\nruntime:\", time.clock() - t0)\n",
    "\n",
    "t0 = time.clock()\n",
    "purchase_dataset = get_dataset(df_pilot, purchase_distinct)\n",
    "print(\"\\nget_purchase_dataset\\nruntime:\", time.clock() - t0)\n",
    "\n",
    "t0 = time.clock()\n",
    "index_purchase_dataset = get_index(purchase_dataset)\n",
    "print(\"\\nget_index\\nruntime:\", time.clock() - t0)\n",
    "\n",
    "t0 = time.clock()\n",
    "unpurchase_df = df_pilot.drop(index_purchase_dataset)\n",
    "print(\"\\nget_unpurchase\\nruntime:\", time.clock() - t0)\n",
    "\n",
    "t0 = time.clock()\n",
    "unpurchase_distinct = get_distinct(unpurchase_df)\n",
    "print(\"\\nget_unpurchase_distinct\\nruntime:\", time.clock() - t0)\n",
    "\n",
    "t0 = time.clock()\n",
    "unpurchase_dataset = get_dataset(unpurchase_df, unpurchase_distinct)\n",
    "print(\"\\nget_unpurchase_dataset\\nruntime:\", time.clock() - t0)"
   ]
  },
  {
   "cell_type": "code",
   "execution_count": 82,
   "metadata": {},
   "outputs": [
    {
     "name": "stdout",
     "output_type": "stream",
     "text": [
      "  dataset of purchase_distinct:  6177\n",
      "              data in purchase: 26254\n",
      "dataset of unpurchase_distinct: 52907\n",
      "            data in unpurchase: 73746\n"
     ]
    }
   ],
   "source": [
    "print(\"  dataset of purchase_distinct: %5d\" % purchase_distinct.shape[0])\n",
    "ct = sum(d.shape[0] for d in purchase_dataset)\n",
    "print(\"              data in purchase: %5d\" % ct)\n",
    "print(\"dataset of unpurchase_distinct: %5d\" % unpurchase_distinct.shape[0])\n",
    "print(\"            data in unpurchase: %5d\" % unpurchase_df.shape[0])"
   ]
  },
  {
   "cell_type": "code",
   "execution_count": 89,
   "metadata": {},
   "outputs": [],
   "source": [
    "x = purchase_dataset[0].groupby(['user_id', 'item_id', 'action_type'], as_index=0).count()\n",
    "# df_pilot.groupby(['user_id', 'item_id', 'action_type'], as_index=0).count()\n",
    "# pd.crosstab([df_pilot.user_id, df_pilot.item_id], df_pilot.action_type)  # fucking awesome\n",
    "df = pd.read_csv('pilot.csv')\n",
    "x = pd.crosstab([df.user_id, df.item_id], df.action_type)\n",
    "pd.merge(purchase_dataset[1000], info, how='left', on='user_id')"
   ]
  },
  {
   "cell_type": "code",
   "execution_count": null,
   "metadata": {},
   "outputs": [],
   "source": []
  },
  {
   "cell_type": "code",
   "execution_count": 2,
   "metadata": {},
   "outputs": [
    {
     "name": "stdout",
     "output_type": "stream",
     "text": [
      "load data\n",
      "runtime: 64.2329481168\n"
     ]
    }
   ],
   "source": [
    "t0 = time.clock()\n",
    "df = pd.read_csv('data/format1/user_log_format1.csv')\n",
    "print('load data\\nruntime:', time.clock() - t0)"
   ]
  },
  {
   "cell_type": "code",
   "execution_count": 4,
   "metadata": {},
   "outputs": [
    {
     "name": "stdout",
     "output_type": "stream",
     "text": [
      "runtime: 414.164133998\n"
     ]
    }
   ],
   "source": [
    "t0 = time.clock()\n",
    "crosstab_by_user_item_action = pd.crosstab([df.user_id, df.item_id], df.action_type)\n",
    "print('runtime:', time.clock() - t0)"
   ]
  },
  {
   "cell_type": "code",
   "execution_count": null,
   "metadata": {},
   "outputs": [],
   "source": []
  },
  {
   "cell_type": "code",
   "execution_count": 18,
   "metadata": {},
   "outputs": [],
   "source": [
    "# crosstab = crosstab_by_user_item_action.reset_index()\n",
    "# crosstab_by_user_item_action.head()"
   ]
  },
  {
   "cell_type": "code",
   "execution_count": 34,
   "metadata": {},
   "outputs": [],
   "source": [
    "x = np.array(crosstab_by_user_item_action.loc[:, [0, 1, 3]])\n",
    "y = np.array(crosstab_by_user_item_action[2])\n",
    "y[y > 0] = 1"
   ]
  },
  {
   "cell_type": "code",
   "execution_count": 37,
   "metadata": {},
   "outputs": [
    {
     "name": "stdout",
     "output_type": "stream",
     "text": [
      "runtime: 124.45424361\n",
      "[-3.0111185686109225, 0.4090775748229526, 0.15405716676367046, -0.2954124377754885]\n"
     ]
    }
   ],
   "source": [
    "from sklearn.linear_model import LogisticRegression\n",
    "\n",
    "lr = LogisticRegression(tol=1e-8)\n",
    "\n",
    "t0 = time.clock()\n",
    "lr.fit(x, y)\n",
    "print(\"runtime:\", time.clock() - t0)\n",
    "\n",
    "w = [lr.intercept_[0]] + [i for i in lr.coef_[0]]\n",
    "print(w)"
   ]
  },
  {
   "cell_type": "code",
   "execution_count": null,
   "metadata": {},
   "outputs": [
    {
     "data": {
      "text/plain": [
       "<matplotlib.collections.PathCollection at 0x278d86a20>"
      ]
     },
     "execution_count": 41,
     "metadata": {},
     "output_type": "execute_result"
    }
   ],
   "source": [
    "def sigmoid(x):\n",
    "    return 1.0 / (1 + np.exp(-x))\n",
    "\n",
    "nx_1 = np.concatenate((np.ones((x.shape[0], 1)), x), axis=1)\n",
    "\n",
    "t = nx_1.dot(w)\n",
    "p = sigmoid(t)\n",
    "\n",
    "plt.scatter(t, p)\n",
    "plt.scatter(t, y, s=6)\n",
    "# plt.axis([-10, 10, -.1, 1.1])\n",
    "# np.where(t>40)\n",
    "# nx[np.where(t>40)]"
   ]
  },
  {
   "cell_type": "code",
   "execution_count": null,
   "metadata": {
    "scrolled": true
   },
   "outputs": [],
   "source": [
    "y_hat = lr.predict(nx)\n",
    "\n",
    "from sklearn.metrics import roc_auc_score\n",
    "from sklearn.metrics import roc_curve\n",
    "# logit_roc_auc = roc_auc_score(y_test, logreg.predict(X_test))\n",
    "# fpr, tpr, thresholds = roc_curve(y_test, logreg.predict_proba(X_test)[:,1])\n",
    "print(\"roc_auc_score: \", roc_auc_score(ny, y_hat))\n",
    "print(\"roc_auc_score: \", roc_auc_score(ny, lr.predict(nx)))\n",
    "\n",
    "pred_prob = sigmoid(t) \n",
    "\n",
    "# fpr0, tpr0, thresholds0 = roc_curve(ny, pred_prob)\n",
    "fpr1, tpr1, thresholds1 = roc_curve(ny, lr.predict_proba(nx)[:,1])\n",
    "\n",
    "def roc_graph(fpr=fpr1, tpr=tpr1):\n",
    "#     fig = plt.figure()\n",
    "    plt.plot(fpr, tpr, label='Logistic Regression (area = %0.2f)' % roc_auc_score(y, y_hat))\n",
    "    plt.plot([0, 1], [0, 1],'w--')\n",
    "    # plt.xlim([0.0, 1.0])\n",
    "    # plt.ylim([0.0, 1.05])\n",
    "    plt.xlabel('False Positive Rate')\n",
    "    plt.ylabel('True Positive Rate')\n",
    "    plt.title('Receiver operating characteristic')\n",
    "    plt.legend(loc=\"lower right\")\n",
    "#     plt.savefig('Log_ROC')\n",
    "    plt.show()\n",
    "#     return fig\n",
    "\n",
    "roc_graph()"
   ]
  },
  {
   "cell_type": "code",
   "execution_count": null,
   "metadata": {},
   "outputs": [],
   "source": []
  },
  {
   "cell_type": "code",
   "execution_count": null,
   "metadata": {},
   "outputs": [],
   "source": []
  },
  {
   "cell_type": "code",
   "execution_count": null,
   "metadata": {},
   "outputs": [],
   "source": [
    "conn = sqlite3.connect(\"skycat.db\")\n",
    "\n",
    "t0 = time.clock()\n",
    "query = \"select distinct user_id, item_id from user_log_batch where action_type=2\"\n",
    "cursor = conn.execute(query)\n",
    "conn.commit()\n",
    "result = cursor.fetchall()\n",
    "print(len(result))\n",
    "print(\"runtime: %.4f\" % (time.clock() - t0))"
   ]
  },
  {
   "cell_type": "code",
   "execution_count": null,
   "metadata": {},
   "outputs": [],
   "source": [
    "query = \"select * from user_log_batch where user_id=? and item_id=?;\"\n",
    "for i, r in enumerate(result):\n",
    "    cursor = conn.execute(query, r)\n",
    "    conn.commit()\n",
    "    subresult = cursor.fetchall()\n",
    "    for sr in subresult:\n",
    "        print(sr)\n",
    "    if i == 0:\n",
    "        break"
   ]
  },
  {
   "cell_type": "code",
   "execution_count": null,
   "metadata": {
    "collapsed": true
   },
   "outputs": [],
   "source": [
    "dst = \"sliced_unique_purchase/\"\n",
    "buy_unique.iloc[0:1000000,:].to_csv(dst + 'p1.csv', index=False)\n",
    "buy_unique.iloc[1000000:2000000,:].to_csv(dst + 'p2.csv', index=False)\n",
    "buy_unique.iloc[2000000:2939895,:].to_csv(dst + 'p3.csv', index=False)\n",
    "buy_unique.to_csv(dst + \"all_purchase.csv\", index=0)"
   ]
  }
 ],
 "metadata": {
  "kernelspec": {
   "display_name": "Python 2",
   "language": "python",
   "name": "python2"
  },
  "language_info": {
   "codemirror_mode": {
    "name": "ipython",
    "version": 2
   },
   "file_extension": ".py",
   "mimetype": "text/x-python",
   "name": "python",
   "nbconvert_exporter": "python",
   "pygments_lexer": "ipython2",
   "version": "2.7.15"
  }
 },
 "nbformat": 4,
 "nbformat_minor": 2
}
