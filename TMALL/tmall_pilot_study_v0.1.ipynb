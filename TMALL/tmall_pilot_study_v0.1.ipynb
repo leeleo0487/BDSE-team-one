{
 "cells": [
  {
   "cell_type": "code",
   "execution_count": null,
   "metadata": {},
   "outputs": [],
   "source": [
    "from __future__ import print_function, division\n",
    "from collections import Counter\n",
    "import os\n",
    "import time\n",
    "import json\n",
    "import sqlite3\n",
    "import numpy as np\n",
    "import pandas as pd\n",
    "import matplotlib.pyplot as plt\n",
    "from jupyterthemes import jtplot\n",
    "jtplot.style(theme=\"chesterish\")\n",
    "\n",
    "src = \"data\""
   ]
  },
  {
   "cell_type": "code",
   "execution_count": null,
   "metadata": {},
   "outputs": [],
   "source": [
    "t0 = time.clock()\n",
    "df = pd.read_csv(os.path.join(src, \"format1\", \"user_log_format1.csv\"))\n",
    "print(\"\\nload data\\nruntime: %.4f\" % (time.clock() - t0))\n",
    "\n",
    "t0 = time.clock()\n",
    "purchase = df.loc[df[\"action_type\"]==2]\n",
    "print(\"all purchase: \", purchase.shape, \"\\nruntime: %.4f\" % (time.clock() - t0))\n",
    "\n",
    "t0 = time.clock()\n",
    "purchase_distinct = purchase.drop_duplicates(['user_id', 'item_id'])\n",
    "print(\"\\nunique purchase:\", purchase_distinct.shape, \"\\nruntime: %.4f\" % (time.clock() - t0))"
   ]
  },
  {
   "cell_type": "code",
   "execution_count": null,
   "metadata": {},
   "outputs": [],
   "source": [
    "dataset = []\n",
    "data = []\n",
    "\n",
    "t0 = time.clock()\n",
    "for ind, row in purchase_distinct_pilot.iterrows():\n",
    "    df_filtered = df_pilot[(df_pilot.user_id == row[0]) & (df_pilot.item_id == row[1])]\n",
    "    dataset += [df_filtered]\n",
    "\n",
    "#     x = [0, 0, 0, 0]\n",
    "#     for count in Counter(dataset[-1].action_type).most_common():\n",
    "#         x[count[0]] = count[1]\n",
    "#     data += [x]\n",
    "\n",
    "print(\"runtime:\", time.clock() - t0)\n",
    "\n",
    "unpurchase_distinct_pilot = df_unpurchase.drop_duplicates(['user_id', 'item_id'])\n",
    "\n",
    "t0 = time.clock()\n",
    "for ind, row in unpurchase_distinct_pilot.iterrows():\n",
    "    df_filtered = df_unpurchase[(df_unpurchase.user_id == row[0]) & (df_unpurchase.item_id == row[1])]\n",
    "\n",
    "    x = [0, 0, 0, 0]\n",
    "    for count in Counter(df_filtered.action_type).most_common():\n",
    "        x[count[0]] = count[1]\n",
    "    data += [x]\n",
    "\n",
    "print(\"load data\\nruntime:\", time.clock() - t0)\n",
    "\n",
    "# x = [0, 0, 0, 0]\n",
    "# ct = Counter(dataset[0]['action_type']).most_common()\n",
    "# for i in ct:\n",
    "#     x[i[0]] = i[1]"
   ]
  }
 ],
 "metadata": {
  "kernelspec": {
   "display_name": "Python 2",
   "language": "python",
   "name": "python2"
  },
  "language_info": {
   "codemirror_mode": {
    "name": "ipython",
    "version": 2
   },
   "file_extension": ".py",
   "mimetype": "text/x-python",
   "name": "python",
   "nbconvert_exporter": "python",
   "pygments_lexer": "ipython2",
   "version": "2.7.15"
  }
 },
 "nbformat": 4,
 "nbformat_minor": 2
}
